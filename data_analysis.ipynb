{
 "cells": [
  {
   "attachments": {},
   "cell_type": "markdown",
   "id": "1587e36b",
   "metadata": {
    "papermill": {
     "duration": 0.031652,
     "end_time": "2022-02-06T16:59:02.820240",
     "exception": false,
     "start_time": "2022-02-06T16:59:02.788588",
     "status": "completed"
    },
    "tags": []
   },
   "source": [
    "## <center> Airlines Customer Satisfaction (Classification) - CatBoost</center> \n",
    "<center> ... </center> "
   ]
  },
  {
   "cell_type": "markdown",
   "id": "d059bb1b",
   "metadata": {
    "papermill": {
     "duration": 0.028976,
     "end_time": "2022-02-06T16:59:02.879404",
     "exception": false,
     "start_time": "2022-02-06T16:59:02.850428",
     "status": "completed"
    },
    "tags": []
   },
   "source": [
    "[Dataset on Kaggle](https://www.kaggle.com/sjleshrac/airlines-customer-satisfaction/code)"
   ]
  },
  {
   "cell_type": "code",
   "execution_count": 1,
   "id": "8d61fd28",
   "metadata": {
    "execution": {
     "iopub.execute_input": "2022-02-06T16:59:02.943049Z",
     "iopub.status.busy": "2022-02-06T16:59:02.941885Z",
     "iopub.status.idle": "2022-02-06T16:59:04.568155Z",
     "shell.execute_reply": "2022-02-06T16:59:04.566754Z",
     "shell.execute_reply.started": "2022-02-06T16:58:21.313181Z"
    },
    "papermill": {
     "duration": 1.659405,
     "end_time": "2022-02-06T16:59:04.568367",
     "exception": false,
     "start_time": "2022-02-06T16:59:02.908962",
     "status": "completed"
    },
    "tags": []
   },
   "outputs": [],
   "source": [
    "import pandas as pd \n",
    "import seaborn as sns\n",
    "import matplotlib.pyplot as plt \n",
    "\n",
    "from sklearn.model_selection import train_test_split\n",
    "\n",
    "### classifier \n",
    "from catboost import CatBoostClassifier \n",
    "\n",
    "import warnings\n",
    "warnings.filterwarnings('ignore')"
   ]
  },
  {
   "cell_type": "code",
   "execution_count": 2,
   "id": "c731f30c",
   "metadata": {
    "execution": {
     "iopub.execute_input": "2022-02-06T16:59:04.632386Z",
     "iopub.status.busy": "2022-02-06T16:59:04.631345Z",
     "iopub.status.idle": "2022-02-06T16:59:04.636848Z",
     "shell.execute_reply": "2022-02-06T16:59:04.637307Z",
     "shell.execute_reply.started": "2022-02-06T16:37:55.309775Z"
    },
    "papermill": {
     "duration": 0.040075,
     "end_time": "2022-02-06T16:59:04.637502",
     "exception": false,
     "start_time": "2022-02-06T16:59:04.597427",
     "status": "completed"
    },
    "tags": []
   },
   "outputs": [],
   "source": [
    "def side_by_side(*objs, **kwds):\n",
    "    from pandas.io.formats.printing import adjoin\n",
    "    space = kwds.get('space', 4)\n",
    "    reprs = [repr(obj).split('\\n') for obj in objs]\n",
    "    print (adjoin(space, *reprs))\n",
    "    print()\n",
    "    return"
   ]
  },
  {
   "cell_type": "markdown",
   "id": "e299c082",
   "metadata": {
    "papermill": {
     "duration": 0.02882,
     "end_time": "2022-02-06T16:59:04.697571",
     "exception": false,
     "start_time": "2022-02-06T16:59:04.668751",
     "status": "completed"
    },
    "tags": []
   },
   "source": [
    "#### Loading Data"
   ]
  },
  {
   "cell_type": "code",
   "execution_count": 3,
   "id": "a22b93d7",
   "metadata": {
    "execution": {
     "iopub.execute_input": "2022-02-06T16:59:04.761433Z",
     "iopub.status.busy": "2022-02-06T16:59:04.760741Z",
     "iopub.status.idle": "2022-02-06T16:59:05.216022Z",
     "shell.execute_reply": "2022-02-06T16:59:05.215390Z",
     "shell.execute_reply.started": "2022-02-06T16:40:35.851372Z"
    },
    "papermill": {
     "duration": 0.487523,
     "end_time": "2022-02-06T16:59:05.216212",
     "exception": false,
     "start_time": "2022-02-06T16:59:04.728689",
     "status": "completed"
    },
    "tags": []
   },
   "outputs": [],
   "source": [
    "airlineDF = pd.read_csv(\"/kaggle/input/airlines-customer-satisfaction/Invistico_Airline.csv\")"
   ]
  },
  {
   "cell_type": "code",
   "execution_count": 4,
   "id": "aacf2f72",
   "metadata": {
    "execution": {
     "iopub.execute_input": "2022-02-06T16:59:05.284168Z",
     "iopub.status.busy": "2022-02-06T16:59:05.283315Z",
     "iopub.status.idle": "2022-02-06T16:59:05.286951Z",
     "shell.execute_reply": "2022-02-06T16:59:05.287463Z",
     "shell.execute_reply.started": "2022-02-06T16:40:39.100859Z"
    },
    "papermill": {
     "duration": 0.04169,
     "end_time": "2022-02-06T16:59:05.287670",
     "exception": false,
     "start_time": "2022-02-06T16:59:05.245980",
     "status": "completed"
    },
    "tags": []
   },
   "outputs": [
    {
     "data": {
      "text/plain": [
       "(129880, 23)"
      ]
     },
     "execution_count": 4,
     "metadata": {},
     "output_type": "execute_result"
    }
   ],
   "source": [
    "airlineDF.shape"
   ]
  },
  {
   "cell_type": "code",
   "execution_count": 5,
   "id": "ac61ad05",
   "metadata": {
    "execution": {
     "iopub.execute_input": "2022-02-06T16:59:05.353598Z",
     "iopub.status.busy": "2022-02-06T16:59:05.352748Z",
     "iopub.status.idle": "2022-02-06T16:59:05.513600Z",
     "shell.execute_reply": "2022-02-06T16:59:05.514135Z",
     "shell.execute_reply.started": "2022-02-06T16:45:18.460807Z"
    },
    "papermill": {
     "duration": 0.19608,
     "end_time": "2022-02-06T16:59:05.514336",
     "exception": false,
     "start_time": "2022-02-06T16:59:05.318256",
     "status": "completed"
    },
    "tags": []
   },
   "outputs": [
    {
     "name": "stdout",
     "output_type": "stream",
     "text": [
      "satisfaction                           0    satisfaction                         129880\n",
      "Gender                                 0    Gender                               129880\n",
      "Customer Type                          0    Customer Type                        129880\n",
      "Age                                    0    Age                                  129880\n",
      "Type of Travel                         0    Type of Travel                       129880\n",
      "Class                                  0    Class                                129880\n",
      "Flight Distance                        0    Flight Distance                      129880\n",
      "Seat comfort                           0    Seat comfort                         129880\n",
      "Departure/Arrival time convenient      0    Departure/Arrival time convenient    129880\n",
      "Food and drink                         0    Food and drink                       129880\n",
      "Gate location                          0    Gate location                        129880\n",
      "Inflight wifi service                  0    Inflight wifi service                129880\n",
      "Inflight entertainment                 0    Inflight entertainment               129880\n",
      "Online support                         0    Online support                       129880\n",
      "Ease of Online booking                 0    Ease of Online booking               129880\n",
      "On-board service                       0    On-board service                     129880\n",
      "Leg room service                       0    Leg room service                     129880\n",
      "Baggage handling                       0    Baggage handling                     129880\n",
      "Checkin service                        0    Checkin service                      129880\n",
      "Cleanliness                            0    Cleanliness                          129880\n",
      "Online boarding                        0    Online boarding                      129880\n",
      "Departure Delay in Minutes             0    Departure Delay in Minutes           129880\n",
      "Arrival Delay in Minutes             393    Arrival Delay in Minutes             129487\n",
      "dtype: int64                                dtype: int64                               \n",
      "\n"
     ]
    }
   ],
   "source": [
    "side_by_side(airlineDF.isnull().sum(), airlineDF.count()) # out of total rows how many rows of them are Null"
   ]
  },
  {
   "cell_type": "code",
   "execution_count": 6,
   "id": "3f77a5a3",
   "metadata": {
    "execution": {
     "iopub.execute_input": "2022-02-06T16:59:05.577929Z",
     "iopub.status.busy": "2022-02-06T16:59:05.577235Z",
     "iopub.status.idle": "2022-02-06T16:59:05.606391Z",
     "shell.execute_reply": "2022-02-06T16:59:05.606937Z",
     "shell.execute_reply.started": "2022-02-06T16:45:21.269163Z"
    },
    "papermill": {
     "duration": 0.062872,
     "end_time": "2022-02-06T16:59:05.607110",
     "exception": false,
     "start_time": "2022-02-06T16:59:05.544238",
     "status": "completed"
    },
    "tags": []
   },
   "outputs": [
    {
     "data": {
      "text/plain": [
       "Class\n",
       "Business    62160\n",
       "Eco         58309\n",
       "Eco Plus     9411\n",
       "dtype: int64"
      ]
     },
     "execution_count": 6,
     "metadata": {},
     "output_type": "execute_result"
    }
   ],
   "source": [
    "airlineDF[['Class']].groupby(['Class']).size()"
   ]
  },
  {
   "cell_type": "markdown",
   "id": "634398c5",
   "metadata": {
    "papermill": {
     "duration": 0.030322,
     "end_time": "2022-02-06T16:59:05.667516",
     "exception": false,
     "start_time": "2022-02-06T16:59:05.637194",
     "status": "completed"
    },
    "tags": []
   },
   "source": [
    "#### Label Encoding "
   ]
  },
  {
   "cell_type": "code",
   "execution_count": 7,
   "id": "b8707bcf",
   "metadata": {
    "execution": {
     "iopub.execute_input": "2022-02-06T16:59:05.739871Z",
     "iopub.status.busy": "2022-02-06T16:59:05.739117Z",
     "iopub.status.idle": "2022-02-06T16:59:05.838699Z",
     "shell.execute_reply": "2022-02-06T16:59:05.838147Z",
     "shell.execute_reply.started": "2022-02-06T16:45:24.959811Z"
    },
    "papermill": {
     "duration": 0.13912,
     "end_time": "2022-02-06T16:59:05.838868",
     "exception": false,
     "start_time": "2022-02-06T16:59:05.699748",
     "status": "completed"
    },
    "tags": []
   },
   "outputs": [],
   "source": [
    "## satisfaction column - label encoding \n",
    "satisfaction_mapping = {\"satisfied\": 1, \"dissatisfied\": 0}\n",
    "airlineDF['satisfaction'] = airlineDF['satisfaction'].map(satisfaction_mapping) \n",
    "\n",
    "## Gender column - label encoding  \n",
    "gender_mapping = {\"Female\": 1, \"Male\": 0}\n",
    "airlineDF['Gender'] = airlineDF['Gender'].map(gender_mapping) \n",
    "\n",
    "## Customer type column - label encoding  \n",
    "customer_type_mapping = {\"Loyal Customer\": 1, \"disloyal Customer\": 0}\n",
    "airlineDF['Customer Type'] = airlineDF['Customer Type'].map(customer_type_mapping) \n",
    "\n",
    "## Type of travel column - label encoding  \n",
    "travel_type_mapping = {\"Business travel\": 2, \"Personal Travel\": 1}\n",
    "airlineDF['Type of Travel'] = airlineDF['Type of Travel'].map(travel_type_mapping)  \n",
    "\n",
    "## Class column - label encoding  \n",
    "class_mapping = {\"Business\": 3, \"Eco Plus\": 2, \"Eco\": 1}\n",
    "airlineDF['Class'] = airlineDF['Class'].map(class_mapping)  "
   ]
  },
  {
   "cell_type": "markdown",
   "id": "1c124e4f",
   "metadata": {
    "papermill": {
     "duration": 0.029733,
     "end_time": "2022-02-06T16:59:05.898705",
     "exception": false,
     "start_time": "2022-02-06T16:59:05.868972",
     "status": "completed"
    },
    "tags": []
   },
   "source": [
    "#### Catigorical Features "
   ]
  },
  {
   "cell_type": "code",
   "execution_count": 8,
   "id": "b26f8147",
   "metadata": {
    "execution": {
     "iopub.execute_input": "2022-02-06T16:59:05.965350Z",
     "iopub.status.busy": "2022-02-06T16:59:05.964404Z",
     "iopub.status.idle": "2022-02-06T16:59:05.994357Z",
     "shell.execute_reply": "2022-02-06T16:59:05.994903Z",
     "shell.execute_reply.started": "2022-02-06T16:45:26.83676Z"
    },
    "papermill": {
     "duration": 0.066018,
     "end_time": "2022-02-06T16:59:05.995087",
     "exception": false,
     "start_time": "2022-02-06T16:59:05.929069",
     "status": "completed"
    },
    "tags": []
   },
   "outputs": [
    {
     "data": {
      "text/plain": [
       "satisfaction                            2\n",
       "Gender                                  2\n",
       "Customer Type                           2\n",
       "Age                                    75\n",
       "Type of Travel                          2\n",
       "Class                                   3\n",
       "Flight Distance                      5398\n",
       "Seat comfort                            6\n",
       "Departure/Arrival time convenient       6\n",
       "Food and drink                          6\n",
       "Gate location                           6\n",
       "Inflight wifi service                   6\n",
       "Inflight entertainment                  6\n",
       "Online support                          6\n",
       "Ease of Online booking                  6\n",
       "On-board service                        6\n",
       "Leg room service                        6\n",
       "Baggage handling                        5\n",
       "Checkin service                         6\n",
       "Cleanliness                             6\n",
       "Online boarding                         6\n",
       "Departure Delay in Minutes            466\n",
       "Arrival Delay in Minutes              472\n",
       "dtype: int64"
      ]
     },
     "execution_count": 8,
     "metadata": {},
     "output_type": "execute_result"
    }
   ],
   "source": [
    "airlineDF.nunique() ## how many unique values does each feature have? "
   ]
  },
  {
   "cell_type": "code",
   "execution_count": 9,
   "id": "e94d8233",
   "metadata": {
    "execution": {
     "iopub.execute_input": "2022-02-06T16:59:06.064303Z",
     "iopub.status.busy": "2022-02-06T16:59:06.060732Z",
     "iopub.status.idle": "2022-02-06T16:59:06.067216Z",
     "shell.execute_reply": "2022-02-06T16:59:06.067795Z",
     "shell.execute_reply.started": "2022-02-06T16:45:28.742102Z"
    },
    "papermill": {
     "duration": 0.041192,
     "end_time": "2022-02-06T16:59:06.068021",
     "exception": false,
     "start_time": "2022-02-06T16:59:06.026829",
     "status": "completed"
    },
    "tags": []
   },
   "outputs": [
    {
     "data": {
      "text/plain": [
       "Index(['satisfaction', 'Gender', 'Customer Type', 'Age', 'Type of Travel',\n",
       "       'Class', 'Flight Distance', 'Seat comfort',\n",
       "       'Departure/Arrival time convenient', 'Food and drink', 'Gate location',\n",
       "       'Inflight wifi service', 'Inflight entertainment', 'Online support',\n",
       "       'Ease of Online booking', 'On-board service', 'Leg room service',\n",
       "       'Baggage handling', 'Checkin service', 'Cleanliness', 'Online boarding',\n",
       "       'Departure Delay in Minutes', 'Arrival Delay in Minutes'],\n",
       "      dtype='object')"
      ]
     },
     "execution_count": 9,
     "metadata": {},
     "output_type": "execute_result"
    }
   ],
   "source": [
    "airlineDF.columns"
   ]
  },
  {
   "cell_type": "code",
   "execution_count": 10,
   "id": "92477085",
   "metadata": {
    "execution": {
     "iopub.execute_input": "2022-02-06T16:59:06.134178Z",
     "iopub.status.busy": "2022-02-06T16:59:06.133514Z",
     "iopub.status.idle": "2022-02-06T16:59:06.137873Z",
     "shell.execute_reply": "2022-02-06T16:59:06.138388Z",
     "shell.execute_reply.started": "2022-02-06T16:45:30.030852Z"
    },
    "papermill": {
     "duration": 0.039242,
     "end_time": "2022-02-06T16:59:06.138562",
     "exception": false,
     "start_time": "2022-02-06T16:59:06.099320",
     "status": "completed"
    },
    "tags": []
   },
   "outputs": [],
   "source": [
    "cat_features = ['Gender', 'Customer Type', 'Type of Travel', 'Class', 'Seat comfort',\n",
    "               'Departure/Arrival time convenient', 'Food and drink', 'Gate location',\n",
    "               'Inflight wifi service', 'Inflight entertainment', 'Online support',\n",
    "               'Ease of Online booking', 'On-board service', 'Leg room service',\n",
    "               'Baggage handling', 'Checkin service', 'Cleanliness', 'Online boarding']\n",
    "\n",
    "target = 'satisfaction'"
   ]
  },
  {
   "cell_type": "markdown",
   "id": "410622c7",
   "metadata": {
    "papermill": {
     "duration": 0.030708,
     "end_time": "2022-02-06T16:59:06.200206",
     "exception": false,
     "start_time": "2022-02-06T16:59:06.169498",
     "status": "completed"
    },
    "tags": []
   },
   "source": [
    "#### Check Class Balance "
   ]
  },
  {
   "cell_type": "code",
   "execution_count": 11,
   "id": "2bdb6ac6",
   "metadata": {
    "execution": {
     "iopub.execute_input": "2022-02-06T16:59:06.266442Z",
     "iopub.status.busy": "2022-02-06T16:59:06.265742Z",
     "iopub.status.idle": "2022-02-06T16:59:06.476239Z",
     "shell.execute_reply": "2022-02-06T16:59:06.476721Z",
     "shell.execute_reply.started": "2022-02-06T16:45:31.828922Z"
    },
    "papermill": {
     "duration": 0.245585,
     "end_time": "2022-02-06T16:59:06.476932",
     "exception": false,
     "start_time": "2022-02-06T16:59:06.231347",
     "status": "completed"
    },
    "tags": []
   },
   "outputs": [
    {
     "name": "stdout",
     "output_type": "stream",
     "text": [
      "Counts of each class\n",
      "1    71087\n",
      "0    58793\n",
      "Name: satisfaction, dtype: int64\n"
     ]
    },
    {
     "data": {
      "text/plain": [
       "(129880, 23)"
      ]
     },
     "execution_count": 11,
     "metadata": {},
     "output_type": "execute_result"
    },
    {
     "data": {
      "image/png": "[encoded data removed]",
      "text/plain": [
       "<Figure size 432x288 with 1 Axes>"
      ]
     },
     "metadata": {
      "needs_background": "light"
     },
     "output_type": "display_data"
    }
   ],
   "source": [
    "print(\"Counts of each class\")\n",
    "print(airlineDF[target].value_counts())\n",
    "airlineDF[target].value_counts().plot(kind='bar')\n",
    "plt.ylabel('Count')\n",
    "plt.title('Class Counts (Checking for Imbalance)')\n",
    "airlineDF.shape"
   ]
  },
  {
   "cell_type": "markdown",
   "id": "7dd5b54b",
   "metadata": {
    "papermill": {
     "duration": 0.032154,
     "end_time": "2022-02-06T16:59:06.542177",
     "exception": false,
     "start_time": "2022-02-06T16:59:06.510023",
     "status": "completed"
    },
    "tags": []
   },
   "source": [
    "Classes are almost balanced "
   ]
  },
  {
   "cell_type": "markdown",
   "id": "28c3f771",
   "metadata": {
    "papermill": {
     "duration": 0.032053,
     "end_time": "2022-02-06T16:59:06.606709",
     "exception": false,
     "start_time": "2022-02-06T16:59:06.574656",
     "status": "completed"
    },
    "tags": []
   },
   "source": [
    "#### Missing Value Handling "
   ]
  },
  {
   "cell_type": "markdown",
   "id": "c7448256",
   "metadata": {
    "papermill": {
     "duration": 0.032183,
     "end_time": "2022-02-06T16:59:06.671357",
     "exception": false,
     "start_time": "2022-02-06T16:59:06.639174",
     "status": "completed"
    },
    "tags": []
   },
   "source": [
    "> Most of the models can handle missing values: catboost, xgboost, etc, Therefore I did not handle missing features "
   ]
  },
  {
   "cell_type": "code",
   "execution_count": 12,
   "id": "9d5ff6ac",
   "metadata": {
    "execution": {
     "iopub.execute_input": "2022-02-06T16:59:06.742050Z",
     "iopub.status.busy": "2022-02-06T16:59:06.741049Z",
     "iopub.status.idle": "2022-02-06T16:59:06.748153Z",
     "shell.execute_reply": "2022-02-06T16:59:06.748695Z",
     "shell.execute_reply.started": "2022-02-06T16:45:34.163541Z"
    },
    "papermill": {
     "duration": 0.043491,
     "end_time": "2022-02-06T16:59:06.748891",
     "exception": false,
     "start_time": "2022-02-06T16:59:06.705400",
     "status": "completed"
    },
    "tags": []
   },
   "outputs": [
    {
     "name": "stdout",
     "output_type": "stream",
     "text": [
      "Percentage of missing: 0.303 %\n"
     ]
    }
   ],
   "source": [
    "print(\"Percentage of missing: {} %\".format(round(airlineDF['Arrival Delay in Minutes'].isnull().sum()/\n",
    "                                                 airlineDF.shape[0]*100, 3)))"
   ]
  },
  {
   "cell_type": "code",
   "execution_count": 13,
   "id": "4677774e",
   "metadata": {
    "execution": {
     "iopub.execute_input": "2022-02-06T16:59:06.819318Z",
     "iopub.status.busy": "2022-02-06T16:59:06.818279Z",
     "iopub.status.idle": "2022-02-06T16:59:07.629137Z",
     "shell.execute_reply": "2022-02-06T16:59:07.628379Z",
     "shell.execute_reply.started": "2022-02-06T16:45:36.228237Z"
    },
    "papermill": {
     "duration": 0.846751,
     "end_time": "2022-02-06T16:59:07.629299",
     "exception": false,
     "start_time": "2022-02-06T16:59:06.782548",
     "status": "completed"
    },
    "tags": []
   },
   "outputs": [
    {
     "data": {
      "image/png": "[encoded data removed]",
      "text/plain": [
       "<Figure size 576x432 with 1 Axes>"
      ]
     },
     "metadata": {
      "needs_background": "light"
     },
     "output_type": "display_data"
    }
   ],
   "source": [
    "### We have only missing values on \"Arrival Delay in Minutes\" feature \n",
    "\n",
    "fig = plt.figure(figsize=(8,6))\n",
    "sns.distplot(airlineDF['Arrival Delay in Minutes']); \n",
    "plt.show()"
   ]
  },
  {
   "cell_type": "markdown",
   "id": "b8ed8b01",
   "metadata": {
    "papermill": {
     "duration": 0.033347,
     "end_time": "2022-02-06T16:59:07.696881",
     "exception": false,
     "start_time": "2022-02-06T16:59:07.663534",
     "status": "completed"
    },
    "tags": []
   },
   "source": [
    "This feature has outliers as well "
   ]
  },
  {
   "cell_type": "markdown",
   "id": "aa2d8b12",
   "metadata": {
    "papermill": {
     "duration": 0.033003,
     "end_time": "2022-02-06T16:59:07.763314",
     "exception": false,
     "start_time": "2022-02-06T16:59:07.730311",
     "status": "completed"
    },
    "tags": []
   },
   "source": [
    "#### Splitting dataset into train, validation and test "
   ]
  },
  {
   "cell_type": "code",
   "execution_count": 14,
   "id": "bd0e54c7",
   "metadata": {
    "execution": {
     "iopub.execute_input": "2022-02-06T16:59:07.834986Z",
     "iopub.status.busy": "2022-02-06T16:59:07.833679Z",
     "iopub.status.idle": "2022-02-06T16:59:07.876353Z",
     "shell.execute_reply": "2022-02-06T16:59:07.877781Z",
     "shell.execute_reply.started": "2022-02-06T16:45:39.55746Z"
    },
    "papermill": {
     "duration": 0.081339,
     "end_time": "2022-02-06T16:59:07.878058",
     "exception": false,
     "start_time": "2022-02-06T16:59:07.796719",
     "status": "completed"
    },
    "tags": []
   },
   "outputs": [],
   "source": [
    "X = airlineDF.drop([target], axis=1) \n",
    "y = airlineDF[target]"
   ]
  },
  {
   "cell_type": "code",
   "execution_count": 15,
   "id": "37d031ba",
   "metadata": {
    "execution": {
     "iopub.execute_input": "2022-02-06T16:59:07.951505Z",
     "iopub.status.busy": "2022-02-06T16:59:07.950487Z",
     "iopub.status.idle": "2022-02-06T16:59:08.052920Z",
     "shell.execute_reply": "2022-02-06T16:59:08.053458Z",
     "shell.execute_reply.started": "2022-02-06T16:45:41.383386Z"
    },
    "papermill": {
     "duration": 0.140832,
     "end_time": "2022-02-06T16:59:08.053666",
     "exception": false,
     "start_time": "2022-02-06T16:59:07.912834",
     "status": "completed"
    },
    "tags": []
   },
   "outputs": [],
   "source": [
    "SEED = 42 \n",
    "TEST_SIZE = 0.2\n",
    "\n",
    "X_train, X_test, y_train, y_test = train_test_split(X, y, test_size=TEST_SIZE, stratify=y, random_state=SEED) "
   ]
  },
  {
   "cell_type": "markdown",
   "id": "f47826b7",
   "metadata": {
    "papermill": {
     "duration": 0.033779,
     "end_time": "2022-02-06T16:59:08.121781",
     "exception": false,
     "start_time": "2022-02-06T16:59:08.088002",
     "status": "completed"
    },
    "tags": []
   },
   "source": [
    "#### Validation "
   ]
  },
  {
   "cell_type": "code",
   "execution_count": 16,
   "id": "979dc664",
   "metadata": {
    "execution": {
     "iopub.execute_input": "2022-02-06T16:59:08.194720Z",
     "iopub.status.busy": "2022-02-06T16:59:08.193675Z",
     "iopub.status.idle": "2022-02-06T16:59:08.279421Z",
     "shell.execute_reply": "2022-02-06T16:59:08.279981Z",
     "shell.execute_reply.started": "2022-02-06T16:45:44.386133Z"
    },
    "papermill": {
     "duration": 0.124103,
     "end_time": "2022-02-06T16:59:08.280212",
     "exception": false,
     "start_time": "2022-02-06T16:59:08.156109",
     "status": "completed"
    },
    "tags": []
   },
   "outputs": [],
   "source": [
    "SEED = 42 \n",
    "VAL_SIZE = 0.2 # % of train data\n",
    "\n",
    "X_train, X_val, y_train, y_val =  train_test_split(X_train, y_train, test_size=VAL_SIZE, stratify=y_train, random_state=SEED)  "
   ]
  },
  {
   "cell_type": "markdown",
   "id": "e2fd0292",
   "metadata": {
    "papermill": {
     "duration": 0.035077,
     "end_time": "2022-02-06T16:59:08.349997",
     "exception": false,
     "start_time": "2022-02-06T16:59:08.314920",
     "status": "completed"
    },
    "tags": []
   },
   "source": [
    "#### Baseline model: catboost"
   ]
  },
  {
   "cell_type": "code",
   "execution_count": 17,
   "id": "02f02ad1",
   "metadata": {
    "execution": {
     "iopub.execute_input": "2022-02-06T16:59:08.425204Z",
     "iopub.status.busy": "2022-02-06T16:59:08.424171Z",
     "iopub.status.idle": "2022-02-06T16:59:12.369355Z",
     "shell.execute_reply": "2022-02-06T16:59:12.368737Z",
     "shell.execute_reply.started": "2022-02-06T16:45:48.484809Z"
    },
    "papermill": {
     "duration": 3.984322,
     "end_time": "2022-02-06T16:59:12.369534",
     "exception": false,
     "start_time": "2022-02-06T16:59:08.385212",
     "status": "completed"
    },
    "tags": []
   },
   "outputs": [
    {
     "data": {
      "application/vnd.jupyter.widget-view+json": {
       "model_id": "cd00872f3bf24dbaaf48d49edcd14c91",
       "version_major": 2,
       "version_minor": 0
      },
      "text/plain": [
       "MetricVisualizer(layout=Layout(align_self='stretch', height='500px'))"
      ]
     },
     "metadata": {},
     "output_type": "display_data"
    },
    {
     "data": {
      "text/plain": [
       "<catboost.core.CatBoostClassifier at 0x7f55ac531750>"
      ]
     },
     "execution_count": 17,
     "metadata": {},
     "output_type": "execute_result"
    }
   ],
   "source": [
    "# You can optimize the iterations, learning rate and also evaluation metrics \n",
    "model = CatBoostClassifier(\n",
    "    iterations=50,\n",
    "    random_seed=63,\n",
    "    learning_rate=0.1,\n",
    "    custom_loss=['Accuracy'],\n",
    "    eval_metric='Accuracy' \n",
    ")\n",
    "\n",
    "## when you fit the model with parameter plot=True, you can see how your model is training (it is fun!)\n",
    "model.fit(\n",
    "    X_train, y_train,\n",
    "    cat_features=cat_features,\n",
    "    eval_set=(X_val, y_val),\n",
    "    logging_level='Silent',\n",
    "    plot=True\n",
    ") "
   ]
  },
  {
   "cell_type": "markdown",
   "id": "50431f69",
   "metadata": {
    "papermill": {
     "duration": 0.036548,
     "end_time": "2022-02-06T16:59:12.444045",
     "exception": false,
     "start_time": "2022-02-06T16:59:12.407497",
     "status": "completed"
    },
    "tags": []
   },
   "source": [
    "#### Evaluation on test dataset "
   ]
  },
  {
   "cell_type": "code",
   "execution_count": 18,
   "id": "ec3d06f2",
   "metadata": {
    "execution": {
     "iopub.execute_input": "2022-02-06T16:59:12.578331Z",
     "iopub.status.busy": "2022-02-06T16:59:12.571167Z",
     "iopub.status.idle": "2022-02-06T16:59:12.670670Z",
     "shell.execute_reply": "2022-02-06T16:59:12.671271Z",
     "shell.execute_reply.started": "2022-02-06T16:46:05.333428Z"
    },
    "papermill": {
     "duration": 0.19222,
     "end_time": "2022-02-06T16:59:12.671522",
     "exception": false,
     "start_time": "2022-02-06T16:59:12.479302",
     "status": "completed"
    },
    "tags": []
   },
   "outputs": [
    {
     "name": "stdout",
     "output_type": "stream",
     "text": [
      "Test score (accuracy):  0.933\n"
     ]
    }
   ],
   "source": [
    "score = model.score(X_test, y_test)\n",
    "\n",
    "print(\"Test score (accuracy): \", round(score, 3))"
   ]
  },
  {
   "cell_type": "markdown",
   "id": "504ee4a7",
   "metadata": {
    "papermill": {
     "duration": 0.037427,
     "end_time": "2022-02-06T16:59:12.745404",
     "exception": false,
     "start_time": "2022-02-06T16:59:12.707977",
     "status": "completed"
    },
    "tags": []
   },
   "source": [
    "With basic hyperparameters we can get high result 93%, it means the dataset is simple enough "
   ]
  },
  {
   "cell_type": "markdown",
   "id": "0414fa13",
   "metadata": {
    "papermill": {
     "duration": 0.035007,
     "end_time": "2022-02-06T16:59:12.816382",
     "exception": false,
     "start_time": "2022-02-06T16:59:12.781375",
     "status": "completed"
    },
    "tags": []
   },
   "source": [
    "#### Explainability with Shap \n",
    "\n",
    "> Which features have higher impact on accuracy"
   ]
  },
  {
   "cell_type": "code",
   "execution_count": 19,
   "id": "20c0495d",
   "metadata": {
    "execution": {
     "iopub.execute_input": "2022-02-06T16:59:12.894540Z",
     "iopub.status.busy": "2022-02-06T16:59:12.893338Z",
     "iopub.status.idle": "2022-02-06T16:59:14.726852Z",
     "shell.execute_reply": "2022-02-06T16:59:14.726229Z",
     "shell.execute_reply.started": "2022-02-06T16:46:08.18055Z"
    },
    "papermill": {
     "duration": 1.875053,
     "end_time": "2022-02-06T16:59:14.727046",
     "exception": false,
     "start_time": "2022-02-06T16:59:12.851993",
     "status": "completed"
    },
    "tags": []
   },
   "outputs": [],
   "source": [
    "import shap"
   ]
  },
  {
   "cell_type": "code",
   "execution_count": 20,
   "id": "f23f729b",
   "metadata": {
    "execution": {
     "iopub.execute_input": "2022-02-06T16:59:14.802249Z",
     "iopub.status.busy": "2022-02-06T16:59:14.801520Z",
     "iopub.status.idle": "2022-02-06T16:59:16.207121Z",
     "shell.execute_reply": "2022-02-06T16:59:16.206467Z",
     "shell.execute_reply.started": "2022-02-06T16:46:10.724885Z"
    },
    "papermill": {
     "duration": 1.445402,
     "end_time": "2022-02-06T16:59:16.207283",
     "exception": false,
     "start_time": "2022-02-06T16:59:14.761881",
     "status": "completed"
    },
    "tags": []
   },
   "outputs": [],
   "source": [
    "explainer = shap.TreeExplainer(model)  \n",
    "shap_values = explainer.shap_values(X_test)\n",
    "base_value = explainer.expected_value"
   ]
  },
  {
   "cell_type": "code",
   "execution_count": 21,
   "id": "b388d6c9",
   "metadata": {
    "execution": {
     "iopub.execute_input": "2022-02-06T16:59:16.287449Z",
     "iopub.status.busy": "2022-02-06T16:59:16.284134Z",
     "iopub.status.idle": "2022-02-06T16:59:16.630156Z",
     "shell.execute_reply": "2022-02-06T16:59:16.629464Z",
     "shell.execute_reply.started": "2022-02-06T16:46:12.119117Z"
    },
    "papermill": {
     "duration": 0.386737,
     "end_time": "2022-02-06T16:59:16.630331",
     "exception": false,
     "start_time": "2022-02-06T16:59:16.243594",
     "status": "completed"
    },
    "tags": []
   },
   "outputs": [
    {
     "data": {
      "image/png": "[encoded data removed]",
      "text/plain": [
       "<Figure size 576x684 with 1 Axes>"
      ]
     },
     "metadata": {
      "needs_background": "light"
     },
     "output_type": "display_data"
    }
   ],
   "source": [
    "shap.summary_plot(shap_values, X_test, feature_names=X_test.columns, plot_type=\"bar\")"
   ]
  },
  {
   "cell_type": "code",
   "execution_count": 22,
   "id": "9021aaaa",
   "metadata": {
    "execution": {
     "iopub.execute_input": "2022-02-06T16:59:16.713155Z",
     "iopub.status.busy": "2022-02-06T16:59:16.712387Z",
     "iopub.status.idle": "2022-02-06T16:59:16.988969Z",
     "shell.execute_reply": "2022-02-06T16:59:16.989469Z",
     "shell.execute_reply.started": "2022-02-06T16:46:12.469741Z"
    },
    "papermill": {
     "duration": 0.321338,
     "end_time": "2022-02-06T16:59:16.989656",
     "exception": false,
     "start_time": "2022-02-06T16:59:16.668318",
     "status": "completed"
    },
    "tags": []
   },
   "outputs": [
    {
     "data": {
      "text/plain": [
       "<AxesSubplot:xlabel='Inflight entertainment', ylabel='count'>"
      ]
     },
     "execution_count": 22,
     "metadata": {},
     "output_type": "execute_result"
    },
    {
     "data": {
      "image/png": "[encoded data removed]",
      "text/plain": [
       "<Figure size 576x360 with 1 Axes>"
      ]
     },
     "metadata": {
      "needs_background": "light"
     },
     "output_type": "display_data"
    }
   ],
   "source": [
    "plt.figure(figsize=(8, 5))\n",
    "\n",
    "x = 'Inflight entertainment'\n",
    "y = target\n",
    "\n",
    "sns.countplot(x, hue = y, data = airlineDF) "
   ]
  },
  {
   "cell_type": "markdown",
   "id": "b2d0907f",
   "metadata": {
    "papermill": {
     "duration": 0.036833,
     "end_time": "2022-02-06T16:59:17.064068",
     "exception": false,
     "start_time": "2022-02-06T16:59:17.027235",
     "status": "completed"
    },
    "tags": []
   },
   "source": [
    "> For \"Inflight entertainment\", passengers with Inflight entertainment score 4 and 5 are mostly satisfied. "
   ]
  },
  {
   "cell_type": "code",
   "execution_count": 23,
   "id": "0af1d785",
   "metadata": {
    "execution": {
     "iopub.execute_input": "2022-02-06T16:59:17.147648Z",
     "iopub.status.busy": "2022-02-06T16:59:17.143850Z",
     "iopub.status.idle": "2022-02-06T16:59:17.423396Z",
     "shell.execute_reply": "2022-02-06T16:59:17.422717Z",
     "shell.execute_reply.started": "2022-02-06T16:46:14.175096Z"
    },
    "papermill": {
     "duration": 0.321132,
     "end_time": "2022-02-06T16:59:17.423567",
     "exception": false,
     "start_time": "2022-02-06T16:59:17.102435",
     "status": "completed"
    },
    "tags": []
   },
   "outputs": [
    {
     "data": {
      "text/plain": [
       "<AxesSubplot:xlabel='Seat comfort', ylabel='count'>"
      ]
     },
     "execution_count": 23,
     "metadata": {},
     "output_type": "execute_result"
    },
    {
     "data": {
      "image/png": "[encoded data removed]",
      "text/plain": [
       "<Figure size 576x360 with 1 Axes>"
      ]
     },
     "metadata": {
      "needs_background": "light"
     },
     "output_type": "display_data"
    }
   ],
   "source": [
    "plt.figure(figsize=(8, 5))\n",
    "\n",
    "x = 'Seat comfort'\n",
    "y = target\n",
    "\n",
    "sns.countplot(x, hue = y, data = airlineDF) "
   ]
  },
  {
   "cell_type": "code",
   "execution_count": 24,
   "id": "d3f30c38",
   "metadata": {
    "execution": {
     "iopub.execute_input": "2022-02-06T16:59:17.510654Z",
     "iopub.status.busy": "2022-02-06T16:59:17.509924Z",
     "iopub.status.idle": "2022-02-06T16:59:17.728564Z",
     "shell.execute_reply": "2022-02-06T16:59:17.727954Z",
     "shell.execute_reply.started": "2022-02-06T16:46:14.623707Z"
    },
    "papermill": {
     "duration": 0.266162,
     "end_time": "2022-02-06T16:59:17.728743",
     "exception": false,
     "start_time": "2022-02-06T16:59:17.462581",
     "status": "completed"
    },
    "tags": []
   },
   "outputs": [
    {
     "data": {
      "text/plain": [
       "<AxesSubplot:xlabel='Type of Travel', ylabel='count'>"
      ]
     },
     "execution_count": 24,
     "metadata": {},
     "output_type": "execute_result"
    },
    {
     "data": {
      "image/png": "[encoded data removed]",
      "text/plain": [
       "<Figure size 432x216 with 1 Axes>"
      ]
     },
     "metadata": {
      "needs_background": "light"
     },
     "output_type": "display_data"
    }
   ],
   "source": [
    "plt.figure(figsize=(6, 3))\n",
    "\n",
    "x = 'Type of Travel'\n",
    "y = target\n",
    "\n",
    "sns.countplot(x, hue = y, data = airlineDF)  "
   ]
  },
  {
   "cell_type": "code",
   "execution_count": 25,
   "id": "ff226cbc",
   "metadata": {
    "execution": {
     "iopub.execute_input": "2022-02-06T16:59:17.816426Z",
     "iopub.status.busy": "2022-02-06T16:59:17.815746Z",
     "iopub.status.idle": "2022-02-06T16:59:18.037241Z",
     "shell.execute_reply": "2022-02-06T16:59:18.036496Z",
     "shell.execute_reply.started": "2022-02-06T16:46:15.327433Z"
    },
    "papermill": {
     "duration": 0.268269,
     "end_time": "2022-02-06T16:59:18.037412",
     "exception": false,
     "start_time": "2022-02-06T16:59:17.769143",
     "status": "completed"
    },
    "tags": []
   },
   "outputs": [
    {
     "data": {
      "text/plain": [
       "<AxesSubplot:xlabel='Gender', ylabel='count'>"
      ]
     },
     "execution_count": 25,
     "metadata": {},
     "output_type": "execute_result"
    },
    {
     "data": {
      "image/png": "[encoded data removed]",
      "text/plain": [
       "<Figure size 432x216 with 1 Axes>"
      ]
     },
     "metadata": {
      "needs_background": "light"
     },
     "output_type": "display_data"
    }
   ],
   "source": [
    "plt.figure(figsize=(6, 3))\n",
    "\n",
    "x = 'Gender'\n",
    "y = target\n",
    "\n",
    "sns.countplot(x, hue = y, data = airlineDF)  "
   ]
  },
  {
   "cell_type": "markdown",
   "id": "bc87d1bb",
   "metadata": {
    "papermill": {
     "duration": 0.041811,
     "end_time": "2022-02-06T16:59:18.120295",
     "exception": false,
     "start_time": "2022-02-06T16:59:18.078484",
     "status": "completed"
    },
    "tags": []
   },
   "source": [
    "> Compared to men, female passengers have higher satisfaction "
   ]
  },
  {
   "cell_type": "markdown",
   "id": "5d99ffba",
   "metadata": {
    "papermill": {
     "duration": 0.04118,
     "end_time": "2022-02-06T16:59:18.203029",
     "exception": false,
     "start_time": "2022-02-06T16:59:18.161849",
     "status": "completed"
    },
    "tags": []
   },
   "source": [
    "#### If you find this notebook useful, please upvote it! Thank you very much!"
   ]
  }
 ],
 "metadata": {
  "kernelspec": {
   "display_name": "base",
   "language": "python",
   "name": "python3"
  },
  "language_info": {
   "codemirror_mode": {
    "name": "ipython",
    "version": 3
   },
   "file_extension": ".py",
   "mimetype": "text/x-python",
   "name": "python",
   "nbconvert_exporter": "python",
   "pygments_lexer": "ipython3",
   "version": "3.9.13 (main, Aug 25 2022, 23:26:10) \n[GCC 11.2.0]"
  },
  "papermill": {
   "default_parameters": {},
   "duration": 27.910532,
   "end_time": "2022-02-06T16:59:19.359199",
   "environment_variables": {},
   "exception": null,
   "input_path": "__notebook__.ipynb",
   "output_path": "__notebook__.ipynb",
   "parameters": {},
   "start_time": "2022-02-06T16:58:51.448667",
   "version": "2.3.3"
  },
  "vscode": {
   "interpreter": {
    "hash": "eaa181e4358399e6c53f4dc5a6e06c972070dd757d42e7925e162658fd697182"
   }
  },
  "widgets": {
   "application/vnd.jupyter.widget-state+json": {
    "state": {
     "cd00872f3bf24dbaaf48d49edcd14c91": {
      "model_module": "catboost-widget",
      "model_module_version": "^1.0.0",
      "model_name": "CatboostWidgetModel",
      "state": {
       "_dom_classes": [],
       "_model_module": "catboost-widget",
       "_model_module_version": "^1.0.0",
       "_model_name": "CatboostWidgetModel",
       "_view_count": null,
       "_view_module": "catboost-widget",
       "_view_module_version": "^1.0.0",
       "_view_name": "CatboostWidgetView",
       "data": {
        "catboost_info": {
         "content": {
          "data": {
           "iterations": [
            {
             "iteration": 0,
             "learn": [
              0.8453376322,
              0.5871041654
             ],
             "passed_time": 0.1371821838,
             "remaining_time": 6.721927008,
             "test": [
              0.8471199654,
              0.5868334416
             ]
            },
            {
             "iteration": 1,
             "learn": [
              0.8484895877,
              0.5176920388
             ],
             "passed_time": 0.2068738338,
             "remaining_time": 4.964972012,
             "test": [
              0.8486598335,
              0.5171574546
             ]
            },
            {
             "iteration": 2,
             "learn": [
              0.8492715614,
              0.4717477836
             ],
             "passed_time": 0.2637588331,
             "remaining_time": 4.132221719,
             "test": [
              0.8497184929,
              0.4708557948
             ]
            },
            {
             "iteration": 3,
             "learn": [
              0.8485858306,
              0.4388933018
             ],
             "passed_time": 0.3337498991,
             "remaining_time": 3.83812384,
             "test": [
              0.8487560753,
              0.4377352267
             ]
            },
            {
             "iteration": 4,
             "learn": [
              0.8459150897,
              0.4193582349
             ],
             "passed_time": 0.391599052,
             "remaining_time": 3.524391468,
             "test": [
              0.8471680862,
              0.4179030132
             ]
            },
            {
             "iteration": 5,
             "learn": [
              0.86868857,
              0.3710673686
             ],
             "passed_time": 0.4512635877,
             "remaining_time": 3.30926631,
             "test": [
              0.8697367788,
              0.369851681
             ]
            },
            {
             "iteration": 6,
             "learn": [
              0.8717322522,
              0.3441466125
             ],
             "passed_time": 0.5103472244,
             "remaining_time": 3.134990093,
             "test": [
              0.8733458448,
              0.3431953933
             ]
            },
            {
             "iteration": 7,
             "learn": [
              0.8742586288,
              0.3141951607
             ],
             "passed_time": 0.5694256954,
             "remaining_time": 2.989484901,
             "test": [
              0.8750300755,
              0.3134639746
             ]
            },
            {
             "iteration": 8,
             "learn": [
              0.8835460703,
              0.2924674468
             ],
             "passed_time": 0.6285475378,
             "remaining_time": 2.863383228,
             "test": [
              0.884461768,
              0.2915553672
             ]
            },
            {
             "iteration": 9,
             "learn": [
              0.8902108923,
              0.2762328087
             ],
             "passed_time": 0.6868840304,
             "remaining_time": 2.747536121,
             "test": [
              0.8915836581,
              0.2751535058
             ]
            },
            {
             "iteration": 10,
             "learn": [
              0.8952877062,
              0.264314382
             ],
             "passed_time": 0.7462231381,
             "remaining_time": 2.645700217,
             "test": [
              0.8961551417,
              0.2632102072
             ]
            },
            {
             "iteration": 11,
             "learn": [
              0.897922356,
              0.2558840042
             ],
             "passed_time": 0.8040403505,
             "remaining_time": 2.546127777,
             "test": [
              0.8985130648,
              0.254876849
             ]
            },
            {
             "iteration": 12,
             "learn": [
              0.9026021679,
              0.2478323562
             ],
             "passed_time": 0.8583597913,
             "remaining_time": 2.443024021,
             "test": [
              0.9022664934,
              0.2467265484
             ]
            },
            {
             "iteration": 13,
             "learn": [
              0.9040698724,
              0.2432824015
             ],
             "passed_time": 0.916637491,
             "remaining_time": 2.357067834,
             "test": [
              0.9031326693,
              0.2422183422
             ]
            },
            {
             "iteration": 14,
             "learn": [
              0.9050443319,
              0.2392329684
             ],
             "passed_time": 0.969459098,
             "remaining_time": 2.262071229,
             "test": [
              0.9045762957,
              0.2380556853
             ]
            },
            {
             "iteration": 15,
             "learn": [
              0.9055736679,
              0.2344363834
             ],
             "passed_time": 1.022531421,
             "remaining_time": 2.172879269,
             "test": [
              0.905249988,
              0.2329386626
             ]
            },
            {
             "iteration": 16,
             "learn": [
              0.9058022449,
              0.2308711203
             ],
             "passed_time": 1.07519787,
             "remaining_time": 2.087148807,
             "test": [
              0.9057311968,
              0.2293671409
             ]
            },
            {
             "iteration": 17,
             "learn": [
              0.9101452065,
              0.2230601772
             ],
             "passed_time": 1.132085728,
             "remaining_time": 2.012596849,
             "test": [
              0.9095327463,
              0.2210037144
             ]
            },
            {
             "iteration": 18,
             "learn": [
              0.9104339353,
              0.2197630928
             ],
             "passed_time": 1.187636652,
             "remaining_time": 1.937722959,
             "test": [
              0.9095327463,
              0.2176616517
             ]
            },
            {
             "iteration": 19,
             "learn": [
              0.9114685466,
              0.2170119153
             ],
             "passed_time": 1.239947786,
             "remaining_time": 1.859921678,
             "test": [
              0.9109282518,
              0.2149256796
             ]
            },
            {
             "iteration": 20,
             "learn": [
              0.9116490021,
              0.2147032936
             ],
             "passed_time": 1.292452258,
             "remaining_time": 1.784815022,
             "test": [
              0.912035032,
              0.2124466572
             ]
            },
            {
             "iteration": 21,
             "learn": [
              0.9131888888,
              0.2111458706
             ],
             "passed_time": 1.344258605,
             "remaining_time": 1.710874589,
             "test": [
              0.9133824166,
              0.2088544167
             ]
            },
            {
             "iteration": 22,
             "learn": [
              0.913790407,
              0.2086273373
             ],
             "passed_time": 1.397564054,
             "remaining_time": 1.640618672,
             "test": [
              0.9133824166,
              0.2062485498
             ]
            },
            {
             "iteration": 23,
             "learn": [
              0.9148611094,
              0.2061382028
             ],
             "passed_time": 1.449356151,
             "remaining_time": 1.57013583,
             "test": [
              0.9144891969,
              0.2037464463
             ]
            },
            {
             "iteration": 24,
             "learn": [
              0.9157513564,
              0.2041473312
             ],
             "passed_time": 1.502198882,
             "remaining_time": 1.502198882,
             "test": [
              0.9153072518,
              0.2017455136
             ]
            },
            {
             "iteration": 25,
             "learn": [
              0.9162446014,
              0.2019190223
             ],
             "passed_time": 1.556574257,
             "remaining_time": 1.436837775,
             "test": [
              0.9161253068,
              0.1995409618
             ]
            },
            {
             "iteration": 26,
             "learn": [
              0.9166897249,
              0.1990859117
             ],
             "passed_time": 1.608737345,
             "remaining_time": 1.370405887,
             "test": [
              0.9160771859,
              0.1966884647
             ]
            },
            {
             "iteration": 27,
             "learn": [
              0.9173273342,
              0.1979981277
             ],
             "passed_time": 1.661511456,
             "remaining_time": 1.305473286,
             "test": [
              0.9166546364,
              0.1955587194
             ]
            },
            {
             "iteration": 28,
             "learn": [
              0.9177243362,
              0.19615189
             ],
             "passed_time": 1.712989994,
             "remaining_time": 1.24044103,
             "test": [
              0.9171839661,
              0.1938784048
             ]
            },
            {
             "iteration": 29,
             "learn": [
              0.9185544314,
              0.1947706928
             ],
             "passed_time": 1.766252211,
             "remaining_time": 1.177501474,
             "test": [
              0.9179057793,
              0.1924556225
             ]
            },
            {
             "iteration": 30,
             "learn": [
              0.9197334071,
              0.1903531692
             ],
             "passed_time": 1.821069086,
             "remaining_time": 1.116139117,
             "test": [
              0.9204561859,
              0.1882207307
             ]
            },
            {
             "iteration": 31,
             "learn": [
              0.920984565,
              0.1871208415
             ],
             "passed_time": 1.898878403,
             "remaining_time": 1.068119102,
             "test": [
              0.9210817574,
              0.1850783169
             ]
            },
            {
             "iteration": 32,
             "learn": [
              0.9220312068,
              0.1846769427
             ],
             "passed_time": 1.999379834,
             "remaining_time": 1.029983551,
             "test": [
              0.9218998123,
              0.1826038593
             ]
            },
            {
             "iteration": 33,
             "learn": [
              0.9224402392,
              0.182252935
             ],
             "passed_time": 2.082391802,
             "remaining_time": 0.9799490831,
             "test": [
              0.9230065926,
              0.1802521456
             ]
            },
            {
             "iteration": 34,
             "learn": [
              0.9230417574,
              0.1806930061
             ],
             "passed_time": 2.150225718,
             "remaining_time": 0.9215253079,
             "test": [
              0.9231509552,
              0.1786962887
             ]
            },
            {
             "iteration": 35,
             "learn": [
              0.9237395185,
              0.1794845563
             ],
             "passed_time": 2.216278494,
             "remaining_time": 0.8618860808,
             "test": [
              0.9231509552,
              0.1774985531
             ]
            },
            {
             "iteration": 36,
             "learn": [
              0.9243891582,
              0.1784180514
             ],
             "passed_time": 2.287133794,
             "remaining_time": 0.8035875494,
             "test": [
              0.9242577354,
              0.176340695
             ]
            },
            {
             "iteration": 37,
             "learn": [
              0.9248583425,
              0.1776045554
             ],
             "passed_time": 2.350239199,
             "remaining_time": 0.7421807995,
             "test": [
              0.9248833069,
              0.1755523005
             ]
            },
            {
             "iteration": 38,
             "learn": [
              0.9253515874,
              0.1757515619
             ],
             "passed_time": 2.424846202,
             "remaining_time": 0.6839309801,
             "test": [
              0.9250276695,
              0.1736967047
             ]
            },
            {
             "iteration": 39,
             "learn": [
              0.9262177737,
              0.1733356807
             ],
             "passed_time": 2.496368697,
             "remaining_time": 0.6240921742,
             "test": [
              0.9262306915,
              0.1712004422
             ]
            },
            {
             "iteration": 40,
             "learn": [
              0.9269516259,
              0.1721227843
             ],
             "passed_time": 2.567454604,
             "remaining_time": 0.563587596,
             "test": [
              0.9267119003,
              0.1700888933
             ]
            },
            {
             "iteration": 41,
             "learn": [
              0.9280945105,
              0.1703838724
             ],
             "passed_time": 2.637757565,
             "remaining_time": 0.5024300125,
             "test": [
              0.9281074058,
              0.1684626651
             ]
            },
            {
             "iteration": 42,
             "learn": [
              0.9288163324,
              0.1689726062
             ],
             "passed_time": 2.707406485,
             "remaining_time": 0.4407405905,
             "test": [
              0.928829219,
              0.1671779955
             ]
            },
            {
             "iteration": 43,
             "learn": [
              0.9294780025,
              0.1677037488
             ],
             "passed_time": 2.779037991,
             "remaining_time": 0.378959726,
             "test": [
              0.9297435157,
              0.1659002811
             ]
            },
            {
             "iteration": 44,
             "learn": [
              0.9309096159,
              0.1641049244
             ],
             "passed_time": 2.850543659,
             "remaining_time": 0.3167270733,
             "test": [
              0.9307540542,
              0.1622439304
             ]
            },
            {
             "iteration": 45,
             "learn": [
              0.9312705268,
              0.1633528103
             ],
             "passed_time": 2.945488327,
             "remaining_time": 0.2561294198,
             "test": [
              0.9308984168,
              0.1615662007
             ]
            },
            {
             "iteration": 46,
             "learn": [
              0.9321728042,
              0.1605046171
             ],
             "passed_time": 3.020676553,
             "remaining_time": 0.1928091417,
             "test": [
              0.9321976806,
              0.1586969834
             ]
            },
            {
             "iteration": 47,
             "learn": [
              0.9325457455,
              0.1599218917
             ],
             "passed_time": 3.094484553,
             "remaining_time": 0.1289368564,
             "test": [
              0.9321976806,
              0.1581427162
             ]
            },
            {
             "iteration": 48,
             "learn": [
              0.9333036584,
              0.158103444
             ],
             "passed_time": 3.16049013,
             "remaining_time": 0.06449979858,
             "test": [
              0.9330638564,
              0.1562670998
             ]
            },
            {
             "iteration": 49,
             "learn": [
              0.9337367516,
              0.15751871
             ],
             "passed_time": 3.220276818,
             "remaining_time": 0,
             "test": [
              0.932823252,
              0.1557662815
             ]
            }
           ],
           "meta": {
            "iteration_count": 50,
            "launch_mode": "Train",
            "learn_metrics": [
             {
              "best_value": "Max",
              "name": "Accuracy"
             },
             {
              "best_value": "Min",
              "name": "Logloss"
             }
            ],
            "learn_sets": [
             "learn"
            ],
            "name": "experiment",
            "parameters": "",
            "test_metrics": [
             {
              "best_value": "Max",
              "name": "Accuracy"
             },
             {
              "best_value": "Min",
              "name": "Logloss"
             }
            ],
            "test_sets": [
             "test"
            ]
           }
          },
          "passed_iterations": 49,
          "total_iterations": 50
         },
         "name": "catboost_info",
         "path": "catboost_info"
        }
       },
       "layout": "IPY_MODEL_f3fb4effd4a04849a4385fcbc55cc1ce"
      }
     },
     "f3fb4effd4a04849a4385fcbc55cc1ce": {
      "model_module": "@jupyter-widgets/base",
      "model_module_version": "1.2.0",
      "model_name": "LayoutModel",
      "state": {
       "_model_module": "@jupyter-widgets/base",
       "_model_module_version": "1.2.0",
       "_model_name": "LayoutModel",
       "_view_count": null,
       "_view_module": "@jupyter-widgets/base",
       "_view_module_version": "1.2.0",
       "_view_name": "LayoutView",
       "align_content": null,
       "align_items": null,
       "align_self": "stretch",
       "border": null,
       "bottom": null,
       "display": null,
       "flex": null,
       "flex_flow": null,
       "grid_area": null,
       "grid_auto_columns": null,
       "grid_auto_flow": null,
       "grid_auto_rows": null,
       "grid_column": null,
       "grid_gap": null,
       "grid_row": null,
       "grid_template_areas": null,
       "grid_template_columns": null,
       "grid_template_rows": null,
       "height": "500px",
       "justify_content": null,
       "justify_items": null,
       "left": null,
       "margin": null,
       "max_height": null,
       "max_width": null,
       "min_height": null,
       "min_width": null,
       "object_fit": null,
       "object_position": null,
       "order": null,
       "overflow": null,
       "overflow_x": null,
       "overflow_y": null,
       "padding": null,
       "right": null,
       "top": null,
       "visibility": null,
       "width": null
      }
     }
    },
    "version_major": 2,
    "version_minor": 0
   }
  }
 },
 "nbformat": 4,
 "nbformat_minor": 5
}
